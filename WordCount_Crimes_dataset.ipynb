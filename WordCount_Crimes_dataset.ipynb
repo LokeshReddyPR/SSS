{
 "cells": [
  {
   "cell_type": "code",
   "execution_count": 1,
   "id": "5f2ccebe",
   "metadata": {},
   "outputs": [],
   "source": [
    "import pandas as pd"
   ]
  },
  {
   "cell_type": "code",
   "execution_count": 3,
   "id": "a93e7564",
   "metadata": {},
   "outputs": [
    {
     "data": {
      "text/plain": [
       "(Primary Type\n",
       " Theft                  140594\n",
       " Battery                121261\n",
       " Criminal Damage         78864\n",
       " Assault                 61308\n",
       " Motor Vehicle Theft     57008\n",
       " Name: count, dtype: int64,\n",
       " Description\n",
       " Simple                     77688\n",
       " Domestic Battery Simple    56767\n",
       " $500 And Under             50341\n",
       " Over $500                  49209\n",
       " Automobile                 44333\n",
       " Name: count, dtype: int64,\n",
       " Location Description\n",
       " Street                                    188751\n",
       " Apartment                                 131553\n",
       " Residence                                  92271\n",
       " Sidewalk                                   35734\n",
       " Parking Lot / Garage (Non Residential)     23971\n",
       " Name: count, dtype: int64)"
      ]
     },
     "execution_count": 3,
     "metadata": {},
     "output_type": "execute_result"
    }
   ],
   "source": [
    "# Load the CSV file into a DataFrame\n",
    "df = pd.read_csv(\"C:\\\\Users\\\\rloke\\\\OneDrive\\\\Desktop\\\\Datasets\\\\chicago_crimes_cleaned.csv\")\n",
    "# Extract word frequencies for \"PrimaryType\",\"Description\" and\"Location Description\" columns\n",
    "PrimaryType_fr = df['Primary Type'].value_counts()\n",
    "Description_fr = df['Description'].value_counts()\n",
    "LocationDescription_fr = df['Location Description'].value_counts()\n",
    "PrimaryType_fr.head(5),Description_fr.head(5), LocationDescription_fr.head(5)\n"
   ]
  },
  {
   "cell_type": "code",
   "execution_count": 4,
   "id": "02a3af27",
   "metadata": {},
   "outputs": [
    {
     "data": {
      "text/plain": [
       "(AREA NAME\n",
       " Central        55373\n",
       " 77th Street    51950\n",
       " Pacific        48154\n",
       " Southwest      46157\n",
       " Hollywood      43416\n",
       " Name: count, dtype: int64,\n",
       " Crm Cd Desc\n",
       " VEHICLE - STOLEN            84968\n",
       " BATTERY - SIMPLE ASSAULT    63336\n",
       " THEFT OF IDENTITY           50937\n",
       " BURGLARY FROM VEHICLE       49568\n",
       " BURGLARY                    48938\n",
       " Name: count, dtype: int64,\n",
       " Premis Desc\n",
       " STREET                                          202138\n",
       " SINGLE FAMILY DWELLING                          135179\n",
       " MULTI-UNIT DWELLING (APARTMENT, DUPLEX, ETC)     97546\n",
       " PARKING LOT                                      55970\n",
       " OTHER BUSINESS                                   37789\n",
       " Name: count, dtype: int64,\n",
       " Weapon Desc\n",
       " STRONG-ARM (HANDS, FIST, FEET OR BODILY FORCE)    148632\n",
       " UNKNOWN WEAPON/OTHER WEAPON                        29998\n",
       " VERBAL THREAT                                      20377\n",
       " HAND GUN                                           17169\n",
       " SEMI-AUTOMATIC PISTOL                               6296\n",
       " Name: count, dtype: int64)"
      ]
     },
     "execution_count": 4,
     "metadata": {},
     "output_type": "execute_result"
    }
   ],
   "source": [
    "\n",
    "# Load the CSV file into a DataFrame\n",
    "df = pd.read_csv(\"C:\\\\Users\\\\rloke\\\\OneDrive\\\\Desktop\\\\Datasets\\\\LosAngles_crimes_cleaned.csv\")\n",
    "# Extract word frequencies for \"Area Name\" ,\"Crime Desc\",\"Premis Desc\",\"Weapon Desc\" columns\n",
    "AreaName_fr = df['AREA NAME'].value_counts()\n",
    "CrimeDesc_fr = df['Crm Cd Desc'].value_counts()\n",
    "PremisDesc_fr = df['Premis Desc'].value_counts()\n",
    "WeaponDesc_fr = df['Weapon Desc'].value_counts()\n",
    "AreaName_fr.head(5),CrimeDesc_fr.head(5), PremisDesc_fr.head(5),WeaponDesc_fr.head(5)"
   ]
  }
 ],
 "metadata": {
  "kernelspec": {
   "display_name": "Python 3 (ipykernel)",
   "language": "python",
   "name": "python3"
  },
  "language_info": {
   "codemirror_mode": {
    "name": "ipython",
    "version": 3
   },
   "file_extension": ".py",
   "mimetype": "text/x-python",
   "name": "python",
   "nbconvert_exporter": "python",
   "pygments_lexer": "ipython3",
   "version": "3.11.5"
  }
 },
 "nbformat": 4,
 "nbformat_minor": 5
}
