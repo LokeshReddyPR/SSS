{
 "cells": [
  {
   "cell_type": "code",
   "execution_count": 1,
   "id": "9cc06092",
   "metadata": {},
   "outputs": [
    {
     "name": "stdout",
     "output_type": "stream",
     "text": [
      "        Year    Month Bene_Geo_Desc Bene_Mdcd_Mdcr_Enrl_Stus  \\\n",
      "3  -1.264831  Overall      National                      All   \n",
      "16 -1.264831  Overall      National                      All   \n",
      "29 -1.264831  Overall      National                      All   \n",
      "42 -1.264831  Overall      National                      All   \n",
      "55 -1.264831  Overall      National                      All   \n",
      "\n",
      "                   Bene_Race_Desc Bene_Sex_Desc Bene_Mdcr_Entlmt_Stus  \\\n",
      "3                             All           All                   All   \n",
      "16  American Indian/Alaska Native           All                   All   \n",
      "29         Asian/Pacific Islander           All                   All   \n",
      "42         Black/African American           All                   All   \n",
      "55                       Hispanic           All                   All   \n",
      "\n",
      "   Bene_Age_Desc Bene_RUCA_Desc  Total_Hosp  Total_Enrl  Total_Hosp_Per100K  \\\n",
      "3            All        Unknown   -0.209006   -0.509521            0.130717   \n",
      "16           All        Unknown   -0.209006   -0.706857            0.130717   \n",
      "29           All        Unknown   -0.209006   -0.687729            0.130717   \n",
      "42           All        Unknown   -0.209006   -0.665852            0.130717   \n",
      "55           All        Unknown   -0.209006   -0.688763            0.130717   \n",
      "\n",
      "     Avg_LOS  Pct_Dschrg_SNF  Pct_Dschrg_Expired  Pct_Dschrg_Home  \\\n",
      "3   0.094647       -0.003513            0.097959        -0.234365   \n",
      "16  0.094647       -0.003513            0.097959        -0.234365   \n",
      "29  0.094647       -0.003513            0.097959        -0.234365   \n",
      "42  0.094647       -0.003513            0.097959        -0.234365   \n",
      "55  0.094647       -0.003513            0.097959        -0.234365   \n",
      "\n",
      "    Pct_Dschrg_Hspc  Pct_Dschrg_HomeHealth  Pct_Dschrg_Other  \n",
      "3           0.06658              -0.070608         -0.026216  \n",
      "16          0.06658              -0.070608         -0.026216  \n",
      "29          0.06658              -0.070608         -0.026216  \n",
      "42          0.06658              -0.070608         -0.026216  \n",
      "55          0.06658              -0.070608         -0.026216  \n"
     ]
    }
   ],
   "source": [
    "import pandas as pd\n",
    "from sklearn.preprocessing import StandardScaler\n",
    "import numpy as np\n",
    "\n",
    "# Load the new dataset\n",
    "hosp = '/Users/sathwik/Downloads/COVID-19 Hospitalization Trends Report Data File - Claims thru 6.2.2023.csv'\n",
    "data = pd.read_csv(hosp)\n",
    "\n",
    "# Handling Missing Values\n",
    "# Fill numerical columns with their median and categorical with the mode\n",
    "numerical_cols = data.select_dtypes(include=['number']).columns\n",
    "categorical_cols = data.select_dtypes(exclude=['number', 'datetime']).columns\n",
    "\n",
    "for col in numerical_cols:\n",
    "    data[col].fillna(data[col].median(), inplace=True)\n",
    "\n",
    "for col in categorical_cols:\n",
    "    data[col].fillna(data[col].mode()[0], inplace=True)\n",
    "\n",
    "# Correct Data Types (if needed)\n",
    "# Convert date columns to datetime format if applicable\n",
    "# Example:\n",
    "# data['date_column'] = pd.to_datetime(data['date_column'], errors='coerce')\n",
    "\n",
    "# Removing Duplicates\n",
    "data.drop_duplicates(inplace=True)\n",
    "\n",
    "# Handling Outliers\n",
    "# Using the IQR method to identify outliers\n",
    "Q1 = data[numerical_cols].quantile(0.25)\n",
    "Q3 = data[numerical_cols].quantile(0.75)\n",
    "IQR = Q3 - Q1\n",
    "\n",
    "# Removing outliers - rows that have values outside 1.5 * IQR from Q1 and Q3\n",
    "data = data[~((data[numerical_cols] < (Q1 - 1.5 * IQR)) | (data[numerical_cols] > (Q3 + 1.5 * IQR))).any(axis=1)]\n",
    "\n",
    "# Data Standardization\n",
    "# Standardizing numerical columns\n",
    "scaler = StandardScaler()\n",
    "data[numerical_cols] = scaler.fit_transform(data[numerical_cols])\n",
    "\n",
    "# Displaying the first few rows after data cleaning and standardization\n",
    "print(data.head())"
   ]
  },
  {
   "cell_type": "code",
   "execution_count": null,
   "id": "d134907c",
   "metadata": {},
   "outputs": [],
   "source": []
  }
 ],
 "metadata": {
  "kernelspec": {
   "display_name": "Python 3 (ipykernel)",
   "language": "python",
   "name": "python3"
  },
  "language_info": {
   "codemirror_mode": {
    "name": "ipython",
    "version": 3
   },
   "file_extension": ".py",
   "mimetype": "text/x-python",
   "name": "python",
   "nbconvert_exporter": "python",
   "pygments_lexer": "ipython3",
   "version": "3.9.7"
  }
 },
 "nbformat": 4,
 "nbformat_minor": 5
}
