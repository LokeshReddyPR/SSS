{
 "cells": [
  {
   "cell_type": "code",
   "execution_count": 1,
   "id": "5e26c0d5",
   "metadata": {},
   "outputs": [],
   "source": [
    "import pandas as pd\n",
    "import numpy as np"
   ]
  },
  {
   "cell_type": "code",
   "execution_count": 3,
   "id": "af5f7ccd",
   "metadata": {},
   "outputs": [],
   "source": [
    "\n",
    "# Load the dataset\n",
    "file_path = 'C:\\\\Users\\\\rloke\\\\OneDrive\\\\Desktop\\\\Datasets\\\\Chicago_Crimes.csv'  # Replace with your file path\n",
    "chicago_crimes = pd.read_csv(file_path)"
   ]
  },
  {
   "cell_type": "code",
   "execution_count": 4,
   "id": "820e5711",
   "metadata": {},
   "outputs": [
    {
     "name": "stdout",
     "output_type": "stream",
     "text": [
      "ID                                0\n",
      "Case Number                       0\n",
      "Date                              0\n",
      "Block                             0\n",
      "IUCR                              0\n",
      "Primary Type                      0\n",
      "Description                       0\n",
      "Location Description           3299\n",
      "Arrest                            0\n",
      "Domestic                          0\n",
      "Beat                              0\n",
      "District                          0\n",
      "Ward                             25\n",
      "Community Area                    1\n",
      "FBI Code                          0\n",
      "X Coordinate                  14348\n",
      "Y Coordinate                  14348\n",
      "Year                              0\n",
      "Updated On                        0\n",
      "Latitude                      14348\n",
      "Longitude                     14348\n",
      "Location                      14348\n",
      "Historical Wards 2003-2015    16791\n",
      "Zip Codes                     14348\n",
      "Community Areas               16468\n",
      "Census Tracts                 16458\n",
      "Wards                         16459\n",
      "Boundaries - ZIP Codes        16466\n",
      "Police Districts              16404\n",
      "Police Beats                  16401\n",
      "Wards 2023-                   16617\n",
      "dtype: int64\n"
     ]
    }
   ],
   "source": [
    "missing_values=chicago_crimes.isnull().sum()\n",
    "print(missing_values)"
   ]
  },
  {
   "cell_type": "code",
   "execution_count": 9,
   "id": "70f2fed2",
   "metadata": {},
   "outputs": [],
   "source": [
    "# Columns identified as essential for missing value removal\n",
    "essential_columns = ['IUCR' ,'Location Description', 'Beat','District','Ward','Community Area','FBI Code','X Coordinate','Y Coordinate','Location',\n",
    "                     'Historical Wards 2003-2015','Community Areas','Census Tracts','Wards','Boundaries - ZIP Codes',\n",
    "                     'Police Districts','Police Beats','Wards 2023-']\n",
    "chicago_crimes_cleaned = chicago_crimes.dropna(subset=essential_columns)"
   ]
  },
  {
   "cell_type": "code",
   "execution_count": 11,
   "id": "54357f90",
   "metadata": {},
   "outputs": [],
   "source": [
    "# Columns identified for removal\n",
    "essential_columns_to_drop = ['IUCR' , 'Beat','District','Ward','Community Area','FBI Code','X Coordinate','Y Coordinate','Location',\n",
    "                     'Historical Wards 2003-2015','Community Areas','Census Tracts','Wards','Boundaries - ZIP Codes',\n",
    "                     'Police Districts','Police Beats','Wards 2023-']\n",
    "\n",
    "# Drop the specified columns\n",
    "chicago_crimes_cleaned = chicago_crimes_cleaned.drop(columns=essential_columns_to_drop)\n"
   ]
  },
  {
   "cell_type": "code",
   "execution_count": 12,
   "id": "5fa60992",
   "metadata": {},
   "outputs": [
    {
     "name": "stdout",
     "output_type": "stream",
     "text": [
      "ID                      0\n",
      "Case Number             0\n",
      "Date                    0\n",
      "Block                   0\n",
      "Primary Type            0\n",
      "Description             0\n",
      "Location Description    0\n",
      "Arrest                  0\n",
      "Domestic                0\n",
      "Year                    0\n",
      "Updated On              0\n",
      "Latitude                0\n",
      "Longitude               0\n",
      "Zip Codes               0\n",
      "dtype: int64\n"
     ]
    }
   ],
   "source": [
    "print(chicago_crimes_cleaned.isnull().sum())"
   ]
  },
  {
   "cell_type": "code",
   "execution_count": 13,
   "id": "db9d0982",
   "metadata": {},
   "outputs": [],
   "source": [
    "# Standardize text to title case for specified columns\n",
    "text_columns = ['Primary Type', 'Description', 'Location Description']\n",
    "for col in text_columns:\n",
    "    chicago_crimes_cleaned[col] = chicago_crimes_cleaned[col].str.title()\n",
    "\n"
   ]
  },
  {
   "cell_type": "code",
   "execution_count": 14,
   "id": "1efa0806",
   "metadata": {},
   "outputs": [],
   "source": [
    "# Ensure boolean consistency\n",
    "chicago_crimes_cleaned['Arrest'] = chicago_crimes_cleaned['Arrest'].astype(bool)\n",
    "chicago_crimes_cleaned['Domestic'] = chicago_crimes_cleaned['Domestic'].astype(bool)\n",
    "\n"
   ]
  },
  {
   "cell_type": "code",
   "execution_count": 16,
   "id": "c6aa0b7f",
   "metadata": {},
   "outputs": [],
   "source": [
    "# Remove duplicates\n",
    "chicago_crimes_cleaned = chicago_crimes_cleaned.drop_duplicates()\n",
    "\n",
    "# Function to calculate IQR and filter outliers\n",
    "def remove_outliers(df, column):\n",
    "    Q1 = df[column].quantile(0.25)\n",
    "    Q3 = df[column].quantile(0.75)\n",
    "    IQR = Q3 - Q1\n",
    "    lower_bound = Q1 - 1.5 * IQR\n",
    "    upper_bound = Q3 + 1.5 * IQR\n",
    "    return df[(df[column] >= lower_bound) & (df[column] <= upper_bound)]\n",
    "\n",
    "# List of numerical columns to check for outliers\n",
    "numerical_columns = ['Latitude', 'Longitude']\n",
    "for col in numerical_columns:\n",
    "    chicago_crimes_cleaned = remove_outliers(chicago_crimes_cleaned, col)\n"
   ]
  },
  {
   "cell_type": "code",
   "execution_count": 17,
   "id": "6ef268db",
   "metadata": {},
   "outputs": [],
   "source": [
    "# Filter Latitude and Longitude for reasonable values in Chicago\n",
    "chicago_lat_min, chicago_lat_max = 41.6, 42.1\n",
    "chicago_long_min, chicago_long_max = -87.9, -87.5\n",
    "chicago_crimes_cleaned = chicago_crimes_cleaned[\n",
    "    (chicago_crimes_cleaned['Latitude'] >= chicago_lat_min) & \n",
    "    (chicago_crimes_cleaned['Latitude'] <= chicago_lat_max) & \n",
    "    (chicago_crimes_cleaned['Longitude'] >= chicago_long_min) & \n",
    "    (chicago_crimes_cleaned['Longitude'] <= chicago_long_max)\n",
    "]\n",
    "\n",
    "# Convert specified columns to categorical data types\n",
    "categorical_columns = ['Primary Type', 'Description', 'Location Description']\n",
    "for col in categorical_columns:\n",
    "    chicago_crimes_cleaned[col] = chicago_crimes_cleaned[col].astype('category')\n",
    "\n",
    "# Your cleaned dataset is now in chicago_crimes_cleaned\n"
   ]
  },
  {
   "cell_type": "code",
   "execution_count": 18,
   "id": "f5af78b6",
   "metadata": {},
   "outputs": [],
   "source": [
    "# Specify the file path for the new CSV\n",
    "output_file_path = 'chicago_crimes_cleaned.csv'  # You can change this to your desired file path\n",
    "\n",
    "# Save the cleaned DataFrame to a CSV file\n",
    "chicago_crimes_cleaned.to_csv(output_file_path, index=False)\n"
   ]
  }
 ],
 "metadata": {
  "kernelspec": {
   "display_name": "Python 3 (ipykernel)",
   "language": "python",
   "name": "python3"
  },
  "language_info": {
   "codemirror_mode": {
    "name": "ipython",
    "version": 3
   },
   "file_extension": ".py",
   "mimetype": "text/x-python",
   "name": "python",
   "nbconvert_exporter": "python",
   "pygments_lexer": "ipython3",
   "version": "3.11.5"
  }
 },
 "nbformat": 4,
 "nbformat_minor": 5
}
