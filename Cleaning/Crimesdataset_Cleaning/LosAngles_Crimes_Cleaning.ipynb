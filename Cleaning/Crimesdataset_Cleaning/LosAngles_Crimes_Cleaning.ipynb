{
 "cells": [
  {
   "cell_type": "code",
   "execution_count": 1,
   "id": "51d7afd7",
   "metadata": {},
   "outputs": [],
   "source": [
    "import pandas as pd\n",
    "import numpy as np"
   ]
  },
  {
   "cell_type": "code",
   "execution_count": 5,
   "id": "2c23a9f7",
   "metadata": {},
   "outputs": [],
   "source": [
    "# Load the dataset\n",
    "file_path = 'C:\\\\Users\\\\rloke\\\\OneDrive\\\\Desktop\\\\Datasets\\\\LosAngles_Crimes.csv'  # Replace with your file path\n",
    "la_crimes = pd.read_csv(file_path)\n"
   ]
  },
  {
   "cell_type": "code",
   "execution_count": 6,
   "id": "88752f72",
   "metadata": {},
   "outputs": [
    {
     "name": "stdout",
     "output_type": "stream",
     "text": [
      "DR_NO                  0\n",
      "Date Rptd              0\n",
      "DATE OCC               0\n",
      "TIME OCC               0\n",
      "AREA                   0\n",
      "AREA NAME              0\n",
      "Rpt Dist No            0\n",
      "Part 1-2               0\n",
      "Crm Cd                 0\n",
      "Crm Cd Desc            0\n",
      "Mocodes           114148\n",
      "Vict Age               0\n",
      "Vict Sex          108529\n",
      "Vict Descent      108537\n",
      "Premis Cd             10\n",
      "Premis Desc          488\n",
      "Weapon Used Cd    537498\n",
      "Weapon Desc       537498\n",
      "Status                 0\n",
      "Status Desc            0\n",
      "Crm Cd 1              10\n",
      "Crm Cd 2          764505\n",
      "Crm Cd 3          823173\n",
      "Crm Cd 4          825151\n",
      "LOCATION               0\n",
      "Cross Street      693343\n",
      "LAT                    0\n",
      "LON                    0\n",
      "dtype: int64\n"
     ]
    }
   ],
   "source": [
    "print(la_crimes.isnull().sum())"
   ]
  },
  {
   "cell_type": "code",
   "execution_count": 8,
   "id": "07dc5ba7",
   "metadata": {},
   "outputs": [],
   "source": [
    "# Convert date columns to datetime format with explicit format\n",
    "date_format = '%Y-%m-%d'  # Replace this with the actual format of your date strings\n",
    "la_crimes['Date Rptd'] = pd.to_datetime(la_crimes['Date Rptd'], format=date_format)\n",
    "la_crimes['DATE OCC'] = pd.to_datetime(la_crimes['DATE OCC'], format=date_format)\n",
    "\n",
    "# Rest of your code...\n",
    "\n",
    "# Split 'TIME OCC' into 'Hour OCC' and 'Minute OCC'\n",
    "la_crimes['Hour OCC'] = la_crimes['TIME OCC'] // 100\n",
    "la_crimes['Minute OCC'] = la_crimes['TIME OCC'] % 100\n"
   ]
  },
  {
   "cell_type": "code",
   "execution_count": 10,
   "id": "445f91f9",
   "metadata": {},
   "outputs": [],
   "source": [
    " #Merge 'Crm Cd' columns\n",
    "crm_cd_columns = ['Crm Cd 1', 'Crm Cd 2', 'Crm Cd 3', 'Crm Cd 4']\n",
    "la_crimes['Crm Cds'] = la_crimes[crm_cd_columns].apply(lambda row: [cd for cd in row if not np.isnan(cd)], axis=1)\n",
    "la_crimes = la_crimes.drop(columns=crm_cd_columns)\n",
    "\n",
    "# Drop columns with high missing values\n",
    "columns_to_drop = ['Mocodes', 'Cross Street']\n",
    "la_crimes = la_crimes.drop(columns=columns_to_drop)"
   ]
  },
  {
   "cell_type": "code",
   "execution_count": 14,
   "id": "199a0486",
   "metadata": {},
   "outputs": [],
   "source": [
    "# Columns identified for removal\n",
    "essential_columns_to_drop = ['TIME OCC','AREA','Rpt Dist No','Part 1-2']\n",
    "\n",
    "\n",
    "# Drop the specified columns\n",
    "la_crimes = la_crimes.drop(columns=essential_columns_to_drop)\n"
   ]
  },
  {
   "cell_type": "code",
   "execution_count": 11,
   "id": "33cbee39",
   "metadata": {},
   "outputs": [],
   "source": [
    "# Remove outliers based on IQR (similar to box plot method)\n",
    "def remove_outliers(df, column):\n",
    "    Q1 = df[column].quantile(0.25)\n",
    "    Q3 = df[column].quantile(0.75)\n",
    "    IQR = Q3 - Q1\n",
    "    lower_bound = Q1 - 1.5 * IQR\n",
    "    upper_bound = Q3 + 1.5 * IQR\n",
    "    return df[(df[column] >= lower_bound) & (df[column] <= upper_bound)]\n",
    "\n",
    "numeric_outlier_columns = ['LAT', 'LON','Vict Age','Hour OCC','Minute OCC']\n",
    "for col in numeric_outlier_columns:\n",
    "    la_crimes = remove_outliers(la_crimes, col)"
   ]
  },
  {
   "cell_type": "code",
   "execution_count": 16,
   "id": "2b8f4b80",
   "metadata": {},
   "outputs": [],
   "source": [
    "# Specify the file path for the new CSV\n",
    "output_file_path = 'LosAngles_crimes_cleaned.csv'  # You can change this to your desired file path\n",
    "\n",
    "# Save the cleaned DataFrame to a CSV file\n",
    "la_crimes.to_csv(output_file_path, index=False)\n"
   ]
  }
 ],
 "metadata": {
  "kernelspec": {
   "display_name": "Python 3 (ipykernel)",
   "language": "python",
   "name": "python3"
  },
  "language_info": {
   "codemirror_mode": {
    "name": "ipython",
    "version": 3
   },
   "file_extension": ".py",
   "mimetype": "text/x-python",
   "name": "python",
   "nbconvert_exporter": "python",
   "pygments_lexer": "ipython3",
   "version": "3.11.5"
  }
 },
 "nbformat": 4,
 "nbformat_minor": 5
}
